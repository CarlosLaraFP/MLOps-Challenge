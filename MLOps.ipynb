{
 "cells": [
  {
   "cell_type": "markdown",
   "id": "01e15c92",
   "metadata": {},
   "source": [
    "# John Deere ISG MLOps Challenge"
   ]
  },
  {
   "cell_type": "code",
   "execution_count": 11,
   "id": "272ec1fb",
   "metadata": {},
   "outputs": [],
   "source": [
    "import numpy as np\n",
    "import sklearn\n",
    "from sklearn.linear_model import LinearRegression\n",
    "\n",
    "x = np.array([6, 16, 26, 36, 46, 56, 64]).reshape((-1, 1))\n",
    "y = np.array([4, 18, 20, 22, 24, 35, 45])\n",
    "\n",
    "model = LinearRegression().fit(x, y) "
   ]
  },
  {
   "cell_type": "code",
   "execution_count": 22,
   "id": "102e4fa9",
   "metadata": {},
   "outputs": [
    {
     "data": {
      "text/plain": [
       "array([3.71550256])"
      ]
     },
     "execution_count": 22,
     "metadata": {},
     "output_type": "execute_result"
    }
   ],
   "source": [
    "model.predict(np.array([1]).reshape((-1,1)))"
   ]
  },
  {
   "cell_type": "markdown",
   "id": "f7717761",
   "metadata": {},
   "source": [
    "Take the model above and do the following:\n",
    "* Set up a repository for this model in a public github repo\n",
    "* Serialize this model\n",
    "* Containerize this model (ie write a Dockerfile that the model can run in)\n",
    "* Write a minimal unittest in the framework of your choice\n",
    "* Set up a CI Tool on your repo. Because your repo is public many CI Tools have free licenses for open source software, please use one of those\n",
    "* Add a test for the accuracy of your model\n",
    "* Minimal documentation\n",
    "\n",
    "No expectation to complete every step, partial credit will be awarded. Any additional steps you can think to add that would improve the MLOps process would be great and considered in scoring, e.g. dependency vulnerability check, deployment of the model"
   ]
  }
 ],
 "metadata": {
  "kernelspec": {
   "display_name": "Python 3 (ipykernel)",
   "language": "python",
   "name": "python3"
  },
  "language_info": {
   "codemirror_mode": {
    "name": "ipython",
    "version": 3
   },
   "file_extension": ".py",
   "mimetype": "text/x-python",
   "name": "python",
   "nbconvert_exporter": "python",
   "pygments_lexer": "ipython3",
   "version": "3.9.7"
  }
 },
 "nbformat": 4,
 "nbformat_minor": 5
}
